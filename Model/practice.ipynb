{
 "cells": [
  {
   "cell_type": "code",
   "execution_count": 4,
   "metadata": {},
   "outputs": [],
   "source": [
    "import pynanoflann\n",
    "import torch\n",
    "import numpy as np\n",
    "from torchsummary import summary\n",
    "from model import RandLANet"
   ]
  },
  {
   "cell_type": "code",
   "execution_count": 6,
   "metadata": {},
   "outputs": [],
   "source": [
    "model = RandLANet(\n",
    "        3,\n",
    "        num_classes=8,\n",
    "        num_neighbors=16,\n",
    "        decimation=4,\n",
    "        device=torch.device('cpu')\n",
    "    )"
   ]
  },
  {
   "cell_type": "code",
   "execution_count": null,
   "metadata": {},
   "outputs": [
    {
     "ename": "RuntimeError",
     "evalue": "Failed to run torchsummary. See above stack traces for more details. Executed layers up to: [Linear: 1-1]",
     "output_type": "error",
     "traceback": [
      "\u001b[0;31m---------------------------------------------------------------------------\u001b[0m",
      "\u001b[0;31mValueError\u001b[0m                                Traceback (most recent call last)",
      "File \u001b[0;32m~/Internship/anaconda3/envs/dl_env/lib/python3.9/site-packages/torchsummary/torchsummary.py:140\u001b[0m, in \u001b[0;36msummary\u001b[0;34m(model, input_data, batch_dim, branching, col_names, col_width, depth, device, dtypes, verbose, *args, **kwargs)\u001b[0m\n\u001b[1;32m    <a href='file:///home/khan/Internship/anaconda3/envs/dl_env/lib/python3.9/site-packages/torchsummary/torchsummary.py?line=138'>139</a>\u001b[0m     \u001b[39mwith\u001b[39;00m torch\u001b[39m.\u001b[39mno_grad():\n\u001b[0;32m--> <a href='file:///home/khan/Internship/anaconda3/envs/dl_env/lib/python3.9/site-packages/torchsummary/torchsummary.py?line=139'>140</a>\u001b[0m         _ \u001b[39m=\u001b[39m model\u001b[39m.\u001b[39;49mto(device)(\u001b[39m*\u001b[39;49mx, \u001b[39m*\u001b[39;49margs, \u001b[39m*\u001b[39;49m\u001b[39m*\u001b[39;49mkwargs)  \u001b[39m# type: ignore[misc]\u001b[39;00m\n\u001b[1;32m    <a href='file:///home/khan/Internship/anaconda3/envs/dl_env/lib/python3.9/site-packages/torchsummary/torchsummary.py?line=140'>141</a>\u001b[0m \u001b[39mexcept\u001b[39;00m \u001b[39mException\u001b[39;00m \u001b[39mas\u001b[39;00m e:\n",
      "File \u001b[0;32m~/Internship/anaconda3/envs/dl_env/lib/python3.9/site-packages/torch/nn/modules/module.py:1110\u001b[0m, in \u001b[0;36mModule._call_impl\u001b[0;34m(self, *input, **kwargs)\u001b[0m\n\u001b[1;32m   <a href='file:///home/khan/Internship/anaconda3/envs/dl_env/lib/python3.9/site-packages/torch/nn/modules/module.py?line=1107'>1108</a>\u001b[0m \u001b[39mif\u001b[39;00m \u001b[39mnot\u001b[39;00m (\u001b[39mself\u001b[39m\u001b[39m.\u001b[39m_backward_hooks \u001b[39mor\u001b[39;00m \u001b[39mself\u001b[39m\u001b[39m.\u001b[39m_forward_hooks \u001b[39mor\u001b[39;00m \u001b[39mself\u001b[39m\u001b[39m.\u001b[39m_forward_pre_hooks \u001b[39mor\u001b[39;00m _global_backward_hooks\n\u001b[1;32m   <a href='file:///home/khan/Internship/anaconda3/envs/dl_env/lib/python3.9/site-packages/torch/nn/modules/module.py?line=1108'>1109</a>\u001b[0m         \u001b[39mor\u001b[39;00m _global_forward_hooks \u001b[39mor\u001b[39;00m _global_forward_pre_hooks):\n\u001b[0;32m-> <a href='file:///home/khan/Internship/anaconda3/envs/dl_env/lib/python3.9/site-packages/torch/nn/modules/module.py?line=1109'>1110</a>\u001b[0m     \u001b[39mreturn\u001b[39;00m forward_call(\u001b[39m*\u001b[39;49m\u001b[39minput\u001b[39;49m, \u001b[39m*\u001b[39;49m\u001b[39m*\u001b[39;49mkwargs)\n\u001b[1;32m   <a href='file:///home/khan/Internship/anaconda3/envs/dl_env/lib/python3.9/site-packages/torch/nn/modules/module.py?line=1110'>1111</a>\u001b[0m \u001b[39m# Do not call functions when jit is used\u001b[39;00m\n",
      "File \u001b[0;32m~/Internship/Codes/Model/model.py:249\u001b[0m, in \u001b[0;36mRandLANet.forward\u001b[0;34m(self, input)\u001b[0m\n\u001b[1;32m    <a href='file:///home/khan/Internship/Codes/Model/model.py?line=247'>248</a>\u001b[0m x \u001b[39m=\u001b[39m \u001b[39mself\u001b[39m\u001b[39m.\u001b[39mfc_start(\u001b[39minput\u001b[39m)\u001b[39m.\u001b[39mtranspose(\u001b[39m-\u001b[39m\u001b[39m2\u001b[39m,\u001b[39m-\u001b[39m\u001b[39m1\u001b[39m)\u001b[39m.\u001b[39munsqueeze(\u001b[39m-\u001b[39m\u001b[39m1\u001b[39m)\n\u001b[0;32m--> <a href='file:///home/khan/Internship/Codes/Model/model.py?line=248'>249</a>\u001b[0m x \u001b[39m=\u001b[39m \u001b[39mself\u001b[39;49m\u001b[39m.\u001b[39;49mbn_start(x) \u001b[39m# shape (B, d, N, 1)\u001b[39;00m\n\u001b[1;32m    <a href='file:///home/khan/Internship/Codes/Model/model.py?line=250'>251</a>\u001b[0m decimation_ratio \u001b[39m=\u001b[39m \u001b[39m1\u001b[39m\n",
      "File \u001b[0;32m~/Internship/anaconda3/envs/dl_env/lib/python3.9/site-packages/torch/nn/modules/module.py:1128\u001b[0m, in \u001b[0;36mModule._call_impl\u001b[0;34m(self, *input, **kwargs)\u001b[0m\n\u001b[1;32m   <a href='file:///home/khan/Internship/anaconda3/envs/dl_env/lib/python3.9/site-packages/torch/nn/modules/module.py?line=1125'>1126</a>\u001b[0m     \u001b[39minput\u001b[39m \u001b[39m=\u001b[39m bw_hook\u001b[39m.\u001b[39msetup_input_hook(\u001b[39minput\u001b[39m)\n\u001b[0;32m-> <a href='file:///home/khan/Internship/anaconda3/envs/dl_env/lib/python3.9/site-packages/torch/nn/modules/module.py?line=1127'>1128</a>\u001b[0m result \u001b[39m=\u001b[39m forward_call(\u001b[39m*\u001b[39;49m\u001b[39minput\u001b[39;49m, \u001b[39m*\u001b[39;49m\u001b[39m*\u001b[39;49mkwargs)\n\u001b[1;32m   <a href='file:///home/khan/Internship/anaconda3/envs/dl_env/lib/python3.9/site-packages/torch/nn/modules/module.py?line=1128'>1129</a>\u001b[0m \u001b[39mif\u001b[39;00m _global_forward_hooks \u001b[39mor\u001b[39;00m \u001b[39mself\u001b[39m\u001b[39m.\u001b[39m_forward_hooks:\n",
      "File \u001b[0;32m~/Internship/anaconda3/envs/dl_env/lib/python3.9/site-packages/torch/nn/modules/container.py:141\u001b[0m, in \u001b[0;36mSequential.forward\u001b[0;34m(self, input)\u001b[0m\n\u001b[1;32m    <a href='file:///home/khan/Internship/anaconda3/envs/dl_env/lib/python3.9/site-packages/torch/nn/modules/container.py?line=139'>140</a>\u001b[0m \u001b[39mfor\u001b[39;00m module \u001b[39min\u001b[39;00m \u001b[39mself\u001b[39m:\n\u001b[0;32m--> <a href='file:///home/khan/Internship/anaconda3/envs/dl_env/lib/python3.9/site-packages/torch/nn/modules/container.py?line=140'>141</a>\u001b[0m     \u001b[39minput\u001b[39m \u001b[39m=\u001b[39m module(\u001b[39minput\u001b[39;49m)\n\u001b[1;32m    <a href='file:///home/khan/Internship/anaconda3/envs/dl_env/lib/python3.9/site-packages/torch/nn/modules/container.py?line=141'>142</a>\u001b[0m \u001b[39mreturn\u001b[39;00m \u001b[39minput\u001b[39m\n",
      "File \u001b[0;32m~/Internship/anaconda3/envs/dl_env/lib/python3.9/site-packages/torch/nn/modules/module.py:1128\u001b[0m, in \u001b[0;36mModule._call_impl\u001b[0;34m(self, *input, **kwargs)\u001b[0m\n\u001b[1;32m   <a href='file:///home/khan/Internship/anaconda3/envs/dl_env/lib/python3.9/site-packages/torch/nn/modules/module.py?line=1125'>1126</a>\u001b[0m     \u001b[39minput\u001b[39m \u001b[39m=\u001b[39m bw_hook\u001b[39m.\u001b[39msetup_input_hook(\u001b[39minput\u001b[39m)\n\u001b[0;32m-> <a href='file:///home/khan/Internship/anaconda3/envs/dl_env/lib/python3.9/site-packages/torch/nn/modules/module.py?line=1127'>1128</a>\u001b[0m result \u001b[39m=\u001b[39m forward_call(\u001b[39m*\u001b[39;49m\u001b[39minput\u001b[39;49m, \u001b[39m*\u001b[39;49m\u001b[39m*\u001b[39;49mkwargs)\n\u001b[1;32m   <a href='file:///home/khan/Internship/anaconda3/envs/dl_env/lib/python3.9/site-packages/torch/nn/modules/module.py?line=1128'>1129</a>\u001b[0m \u001b[39mif\u001b[39;00m _global_forward_hooks \u001b[39mor\u001b[39;00m \u001b[39mself\u001b[39m\u001b[39m.\u001b[39m_forward_hooks:\n",
      "File \u001b[0;32m~/Internship/anaconda3/envs/dl_env/lib/python3.9/site-packages/torch/nn/modules/batchnorm.py:135\u001b[0m, in \u001b[0;36m_BatchNorm.forward\u001b[0;34m(self, input)\u001b[0m\n\u001b[1;32m    <a href='file:///home/khan/Internship/anaconda3/envs/dl_env/lib/python3.9/site-packages/torch/nn/modules/batchnorm.py?line=133'>134</a>\u001b[0m \u001b[39mdef\u001b[39;00m \u001b[39mforward\u001b[39m(\u001b[39mself\u001b[39m, \u001b[39minput\u001b[39m: Tensor) \u001b[39m-\u001b[39m\u001b[39m>\u001b[39m Tensor:\n\u001b[0;32m--> <a href='file:///home/khan/Internship/anaconda3/envs/dl_env/lib/python3.9/site-packages/torch/nn/modules/batchnorm.py?line=134'>135</a>\u001b[0m     \u001b[39mself\u001b[39;49m\u001b[39m.\u001b[39;49m_check_input_dim(\u001b[39minput\u001b[39;49m)\n\u001b[1;32m    <a href='file:///home/khan/Internship/anaconda3/envs/dl_env/lib/python3.9/site-packages/torch/nn/modules/batchnorm.py?line=136'>137</a>\u001b[0m     \u001b[39m# exponential_average_factor is set to self.momentum\u001b[39;00m\n\u001b[1;32m    <a href='file:///home/khan/Internship/anaconda3/envs/dl_env/lib/python3.9/site-packages/torch/nn/modules/batchnorm.py?line=137'>138</a>\u001b[0m     \u001b[39m# (when it is available) only so that it gets updated\u001b[39;00m\n\u001b[1;32m    <a href='file:///home/khan/Internship/anaconda3/envs/dl_env/lib/python3.9/site-packages/torch/nn/modules/batchnorm.py?line=138'>139</a>\u001b[0m     \u001b[39m# in ONNX graph when this node is exported to ONNX.\u001b[39;00m\n",
      "File \u001b[0;32m~/Internship/anaconda3/envs/dl_env/lib/python3.9/site-packages/torch/nn/modules/batchnorm.py:407\u001b[0m, in \u001b[0;36mBatchNorm2d._check_input_dim\u001b[0;34m(self, input)\u001b[0m\n\u001b[1;32m    <a href='file:///home/khan/Internship/anaconda3/envs/dl_env/lib/python3.9/site-packages/torch/nn/modules/batchnorm.py?line=405'>406</a>\u001b[0m \u001b[39mif\u001b[39;00m \u001b[39minput\u001b[39m\u001b[39m.\u001b[39mdim() \u001b[39m!=\u001b[39m \u001b[39m4\u001b[39m:\n\u001b[0;32m--> <a href='file:///home/khan/Internship/anaconda3/envs/dl_env/lib/python3.9/site-packages/torch/nn/modules/batchnorm.py?line=406'>407</a>\u001b[0m     \u001b[39mraise\u001b[39;00m \u001b[39mValueError\u001b[39;00m(\u001b[39m\"\u001b[39m\u001b[39mexpected 4D input (got \u001b[39m\u001b[39m{}\u001b[39;00m\u001b[39mD input)\u001b[39m\u001b[39m\"\u001b[39m\u001b[39m.\u001b[39mformat(\u001b[39minput\u001b[39m\u001b[39m.\u001b[39mdim()))\n",
      "\u001b[0;31mValueError\u001b[0m: expected 4D input (got 5D input)",
      "\nThe above exception was the direct cause of the following exception:\n",
      "\u001b[0;31mRuntimeError\u001b[0m                              Traceback (most recent call last)",
      "\u001b[1;32m/home/khan/Internship/Codes/Model/practice.ipynb Cell 3'\u001b[0m in \u001b[0;36m<module>\u001b[0;34m\u001b[0m\n\u001b[0;32m----> <a href='vscode-notebook-cell:/home/khan/Internship/Codes/Model/practice.ipynb#ch0000009?line=0'>1</a>\u001b[0m summary(model,(\u001b[39m1\u001b[39;49m,\u001b[39m9000000\u001b[39;49m,\u001b[39m3\u001b[39;49m))\n",
      "File \u001b[0;32m~/Internship/anaconda3/envs/dl_env/lib/python3.9/site-packages/torchsummary/torchsummary.py:143\u001b[0m, in \u001b[0;36msummary\u001b[0;34m(model, input_data, batch_dim, branching, col_names, col_width, depth, device, dtypes, verbose, *args, **kwargs)\u001b[0m\n\u001b[1;32m    <a href='file:///home/khan/Internship/anaconda3/envs/dl_env/lib/python3.9/site-packages/torchsummary/torchsummary.py?line=140'>141</a>\u001b[0m \u001b[39mexcept\u001b[39;00m \u001b[39mException\u001b[39;00m \u001b[39mas\u001b[39;00m e:\n\u001b[1;32m    <a href='file:///home/khan/Internship/anaconda3/envs/dl_env/lib/python3.9/site-packages/torchsummary/torchsummary.py?line=141'>142</a>\u001b[0m     executed_layers \u001b[39m=\u001b[39m [layer \u001b[39mfor\u001b[39;00m layer \u001b[39min\u001b[39;00m summary_list \u001b[39mif\u001b[39;00m layer\u001b[39m.\u001b[39mexecuted]\n\u001b[0;32m--> <a href='file:///home/khan/Internship/anaconda3/envs/dl_env/lib/python3.9/site-packages/torchsummary/torchsummary.py?line=142'>143</a>\u001b[0m     \u001b[39mraise\u001b[39;00m \u001b[39mRuntimeError\u001b[39;00m(\n\u001b[1;32m    <a href='file:///home/khan/Internship/anaconda3/envs/dl_env/lib/python3.9/site-packages/torchsummary/torchsummary.py?line=143'>144</a>\u001b[0m         \u001b[39m\"\u001b[39m\u001b[39mFailed to run torchsummary. See above stack traces for more details. \u001b[39m\u001b[39m\"\u001b[39m\n\u001b[1;32m    <a href='file:///home/khan/Internship/anaconda3/envs/dl_env/lib/python3.9/site-packages/torchsummary/torchsummary.py?line=144'>145</a>\u001b[0m         \u001b[39m\"\u001b[39m\u001b[39mExecuted layers up to: \u001b[39m\u001b[39m{}\u001b[39;00m\u001b[39m\"\u001b[39m\u001b[39m.\u001b[39mformat(executed_layers)\n\u001b[1;32m    <a href='file:///home/khan/Internship/anaconda3/envs/dl_env/lib/python3.9/site-packages/torchsummary/torchsummary.py?line=145'>146</a>\u001b[0m     ) \u001b[39mfrom\u001b[39;00m \u001b[39me\u001b[39;00m\n\u001b[1;32m    <a href='file:///home/khan/Internship/anaconda3/envs/dl_env/lib/python3.9/site-packages/torchsummary/torchsummary.py?line=146'>147</a>\u001b[0m \u001b[39mfinally\u001b[39;00m:\n\u001b[1;32m    <a href='file:///home/khan/Internship/anaconda3/envs/dl_env/lib/python3.9/site-packages/torchsummary/torchsummary.py?line=147'>148</a>\u001b[0m     \u001b[39mif\u001b[39;00m hooks \u001b[39mis\u001b[39;00m \u001b[39mnot\u001b[39;00m \u001b[39mNone\u001b[39;00m:\n",
      "\u001b[0;31mRuntimeError\u001b[0m: Failed to run torchsummary. See above stack traces for more details. Executed layers up to: [Linear: 1-1]"
     ]
    }
   ],
   "source": [
    "summary(model,(1,20000,3))"
   ]
  },
  {
   "cell_type": "code",
   "execution_count": 3,
   "metadata": {},
   "outputs": [],
   "source": [
    "x=torch.ones((1,4000000,3))"
   ]
  },
  {
   "cell_type": "code",
   "execution_count": 4,
   "metadata": {},
   "outputs": [],
   "source": [
    "x=np.array(x)"
   ]
  },
  {
   "cell_type": "code",
   "execution_count": 4,
   "metadata": {},
   "outputs": [],
   "source": [
    "def findKNN(points,queries,num_neighbors):\n",
    "    idx,dist=[],[]\n",
    "\n",
    "    B=points.shape[0]\n",
    "\n",
    "    for i in range(B):\n",
    "        nn=pynanoflann.KDTree(n_neighbors=num_neighbors,metric=\"L2\")\n",
    "        pts=np.array(points[i])\n",
    "        qs=np.array(queries[i])\n",
    "        nn.fit(pts)\n",
    "        tempDIST,tempIDX=nn.kneighbors(qs)\n",
    "        idx.append(tempIDX.astype(np.int64))\n",
    "        dist.append(tempDIST.astype(np.float32))\n",
    "    \n",
    "    idx=torch.from_numpy(np.array(idx))\n",
    "    dist=torch.from_numpy(np.array(dist))\n",
    "    return idx,dist"
   ]
  },
  {
   "cell_type": "code",
   "execution_count": null,
   "metadata": {},
   "outputs": [],
   "source": [
    "nn=pynanoflann.KDTree(n_neighbors=16,metric=\"L2\",radius=10)\n",
    "nn.fit(x[0])\n",
    "idx,dist=nn.kneighbors(x[0])"
   ]
  },
  {
   "cell_type": "code",
   "execution_count": 5,
   "metadata": {},
   "outputs": [],
   "source": [
    "idx,dist=findKNN(x,x,16)"
   ]
  },
  {
   "cell_type": "code",
   "execution_count": 4,
   "metadata": {},
   "outputs": [
    {
     "data": {
      "text/plain": [
       "tensor([[[1., 1., 1.],\n",
       "         [1., 1., 1.],\n",
       "         [1., 1., 1.],\n",
       "         ...,\n",
       "         [1., 1., 1.],\n",
       "         [1., 1., 1.],\n",
       "         [1., 1., 1.]],\n",
       "\n",
       "        [[1., 1., 1.],\n",
       "         [1., 1., 1.],\n",
       "         [1., 1., 1.],\n",
       "         ...,\n",
       "         [1., 1., 1.],\n",
       "         [1., 1., 1.],\n",
       "         [1., 1., 1.]],\n",
       "\n",
       "        [[1., 1., 1.],\n",
       "         [1., 1., 1.],\n",
       "         [1., 1., 1.],\n",
       "         ...,\n",
       "         [1., 1., 1.],\n",
       "         [1., 1., 1.],\n",
       "         [1., 1., 1.]]])"
      ]
     },
     "execution_count": 4,
     "metadata": {},
     "output_type": "execute_result"
    }
   ],
   "source": [
    "x"
   ]
  },
  {
   "cell_type": "code",
   "execution_count": null,
   "metadata": {},
   "outputs": [],
   "source": []
  }
 ],
 "metadata": {
  "interpreter": {
   "hash": "df826fa14f1487aa043da0ffc535f8d52c275b2ccd6ec35d6bbf2aa5d5901bd9"
  },
  "kernelspec": {
   "display_name": "Python 3.9.7 ('dl_env')",
   "language": "python",
   "name": "python3"
  },
  "language_info": {
   "codemirror_mode": {
    "name": "ipython",
    "version": 3
   },
   "file_extension": ".py",
   "mimetype": "text/x-python",
   "name": "python",
   "nbconvert_exporter": "python",
   "pygments_lexer": "ipython3",
   "version": "3.9.7"
  },
  "orig_nbformat": 4
 },
 "nbformat": 4,
 "nbformat_minor": 2
}
