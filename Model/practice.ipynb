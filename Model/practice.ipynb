{
 "cells": [
  {
   "cell_type": "code",
   "execution_count": 2,
   "metadata": {},
   "outputs": [],
   "source": [
    "import pynanoflann\n",
    "import torch\n",
    "import numpy as np\n",
    "import torch.nn.functional as F\n",
    "import torch.nn as nn\n",
    "from sklearn.metrics import *"
   ]
  },
  {
   "cell_type": "code",
   "execution_count": 3,
   "metadata": {},
   "outputs": [],
   "source": [
    "x=torch.rand((1,6,100))\n",
    "y=torch.randint(0,6,(1,100))"
   ]
  },
  {
   "cell_type": "code",
   "execution_count": 4,
   "metadata": {},
   "outputs": [],
   "source": [
    "def calculate_weight(ratio,alpha1=0.3,alpha2=0.3,alpha3=0.4):\n",
    "    weight= 0.3+0.3*(1/(ratio+0.02))+0.4*(1/ratio)\n",
    "    return weight"
   ]
  },
  {
   "cell_type": "code",
   "execution_count": 54,
   "metadata": {},
   "outputs": [],
   "source": [
    "class IoULoss(nn.Module):\n",
    "    def __init__(self, apply_nonlin=None, batch_dice=False, do_bg=True, smooth=1.,\n",
    "                 square=False):\n",
    "        \"\"\"\n",
    "        paper: https://link.springer.com/chapter/10.1007/978-3-319-50835-1_22\n",
    "        \n",
    "        \"\"\"\n",
    "        super(IoULoss, self).__init__()\n",
    "\n",
    "        self.square = square\n",
    "        self.do_bg = do_bg\n",
    "        self.batch_dice = batch_dice\n",
    "        self.apply_nonlin = apply_nonlin\n",
    "        self.smooth = smooth\n",
    "\n",
    "    def forward(self, pred, true, loss_mask=None):\n",
    "        batch=pred.size(0)\n",
    "        iou=0\n",
    "        \n",
    "        pred=F.softmax(pred,dim=1)\n",
    "        pred=pred.permute(0,2,1) # (B,N,C)\n",
    "        for i in range(batch):\n",
    "            x,y=pred[i],true[i]\n",
    "            pred_label=torch.argmax(x,dim=1)\n",
    "            n=len(torch.unique(y))\n",
    "            #sprint(x.shape,y.shape)\n",
    "            shp_x = x.shape\n",
    "\n",
    "            if self.batch_dice:\n",
    "                axes = [0] + list(range(2, len(shp_x)))\n",
    "            else:\n",
    "                axes = list(range(2, len(shp_x)))\n",
    "\n",
    "            if self.apply_nonlin is not None:\n",
    "                x = self.apply_nonlin(x)\n",
    "\n",
    "            freq=torch.einsum(\"ch->h\", F.one_hot(y)).type(torch.float32)\n",
    "            ratio=freq/torch.sum(freq)\n",
    "            w=calculate_weight(ratio)\n",
    "            numerator=0\n",
    "            denominator=0\n",
    "            for j in range(n):\n",
    "                #Find poisiton for class j\n",
    "                pos_j=(true==i).nonzero()[:,1]\n",
    "                pred_j=pred[:,pos_j]\n",
    "                pred_label_j=pred_j.argmax(dim=-1) # The prediction Label\n",
    "                # Find where correct predictions occurred\n",
    "                tp_pos_j=((y==j)*(pred_label==j)).nonzero()\n",
    "                tp_j=torch.sum(x[tp_pos_j[0]][:,j])\n",
    "                fp_j=torch.sum(x[:,j])\n",
    "                num_class=len((y==j).nonzero())\n",
    "                weight_i=w[i]\n",
    "                numerator+=tp_j*weight_i\n",
    "                denominator+=(num_class+fp_j-tp_j)*weight_i\n",
    "\n",
    "            batch_iou = numerator/denominator\n",
    "        iou = batch_iou/batch\n",
    "\n",
    "        return 1-iou\n",
    "        "
   ]
  },
  {
   "cell_type": "code",
   "execution_count": 55,
   "metadata": {},
   "outputs": [
    {
     "data": {
      "text/plain": [
       "tensor(0.9999)"
      ]
     },
     "execution_count": 55,
     "metadata": {},
     "output_type": "execute_result"
    }
   ],
   "source": [
    "IoULoss()(x,y)"
   ]
  },
  {
   "cell_type": "code",
   "execution_count": 31,
   "metadata": {},
   "outputs": [
    {
     "name": "stdout",
     "output_type": "stream",
     "text": [
      "tensor([[5.2519, 1.1801, 1.3364, 1.2659, 1.3229, 1.3610],\n",
      "        [1.2468, 4.8841, 1.1254, 1.2659, 1.1923, 1.3109],\n",
      "        [1.2468, 1.2137, 4.2471, 1.1433, 1.3766, 1.1879],\n",
      "        [1.1629, 1.2137, 1.3364, 9.8615, 1.2316, 1.2250],\n",
      "        [1.2961, 1.2903, 1.2388, 1.2659, 8.1032, 1.1879],\n",
      "        [1.2468, 1.2903, 1.1596, 1.3437, 1.1566, 8.4000]], dtype=torch.float64)\n"
     ]
    },
    {
     "data": {
      "text/plain": [
       "tensor(0.8732, dtype=torch.float64)"
      ]
     },
     "execution_count": 31,
     "metadata": {},
     "output_type": "execute_result"
    }
   ],
   "source": [
    "FPCELossV2()(x,y)"
   ]
  },
  {
   "cell_type": "code",
   "execution_count": 32,
   "metadata": {},
   "outputs": [],
   "source": [
    "label=x.argmax(axis=1)"
   ]
  },
  {
   "cell_type": "code",
   "execution_count": 33,
   "metadata": {},
   "outputs": [],
   "source": [
    "cm=confusion_matrix(y[0],label[0])"
   ]
  },
  {
   "cell_type": "code",
   "execution_count": 34,
   "metadata": {},
   "outputs": [
    {
     "data": {
      "text/plain": [
       "array([[2, 2, 5, 2, 5, 6],\n",
       "       [3, 3, 0, 2, 2, 5],\n",
       "       [3, 3, 3, 0, 6, 2],\n",
       "       [1, 3, 5, 0, 3, 3],\n",
       "       [4, 5, 3, 2, 1, 2],\n",
       "       [3, 5, 1, 3, 1, 1]])"
      ]
     },
     "execution_count": 34,
     "metadata": {},
     "output_type": "execute_result"
    }
   ],
   "source": [
    "cm"
   ]
  },
  {
   "cell_type": "code",
   "execution_count": 36,
   "metadata": {},
   "outputs": [
    {
     "name": "stderr",
     "output_type": "stream",
     "text": [
      "/tmp/ipykernel_888635/1687078183.py:1: RuntimeWarning: divide by zero encountered in true_divide\n",
      "  1/(cm/cm.sum())\n"
     ]
    },
    {
     "data": {
      "text/plain": [
       "array([[ 50.        ,  50.        ,  20.        ,  50.        ,\n",
       "         20.        ,  16.66666667],\n",
       "       [ 33.33333333,  33.33333333,          inf,  50.        ,\n",
       "         50.        ,  20.        ],\n",
       "       [ 33.33333333,  33.33333333,  33.33333333,          inf,\n",
       "         16.66666667,  50.        ],\n",
       "       [100.        ,  33.33333333,  20.        ,          inf,\n",
       "         33.33333333,  33.33333333],\n",
       "       [ 25.        ,  20.        ,  33.33333333,  50.        ,\n",
       "        100.        ,  50.        ],\n",
       "       [ 33.33333333,  20.        , 100.        ,  33.33333333,\n",
       "        100.        , 100.        ]])"
      ]
     },
     "execution_count": 36,
     "metadata": {},
     "output_type": "execute_result"
    }
   ],
   "source": [
    "cm/cm.sum()"
   ]
  },
  {
   "cell_type": "code",
   "execution_count": 46,
   "metadata": {},
   "outputs": [
    {
     "data": {
      "text/plain": [
       "array([[0.2       , 0.2       , 0.13333333, 0.13333333, 0.2       ,\n",
       "        0.13333333],\n",
       "       [0.125     , 0.        , 0.375     , 0.        , 0.25      ,\n",
       "        0.25      ],\n",
       "       [0.05      , 0.15      , 0.15      , 0.25      , 0.25      ,\n",
       "        0.15      ],\n",
       "       [0.05882353, 0.29411765, 0.11764706, 0.17647059, 0.17647059,\n",
       "        0.17647059],\n",
       "       [0.07142857, 0.21428571, 0.21428571, 0.21428571, 0.21428571,\n",
       "        0.07142857],\n",
       "       [0.22222222, 0.22222222, 0.16666667, 0.22222222, 0.05555556,\n",
       "        0.11111111]])"
      ]
     },
     "execution_count": 46,
     "metadata": {},
     "output_type": "execute_result"
    }
   ],
   "source": [
    "cm/(cm.sum(axis=1)).reshape(-1,1)"
   ]
  },
  {
   "cell_type": "code",
   "execution_count": 27,
   "metadata": {},
   "outputs": [
    {
     "data": {
      "text/plain": [
       "torch.Size([1, 10000, 10000])"
      ]
     },
     "execution_count": 27,
     "metadata": {},
     "output_type": "execute_result"
    }
   ],
   "source": [
    "x[:,:,y[0]].shape"
   ]
  },
  {
   "cell_type": "code",
   "execution_count": 4,
   "metadata": {},
   "outputs": [],
   "source": [
    "x=np.array(x)"
   ]
  },
  {
   "cell_type": "code",
   "execution_count": 4,
   "metadata": {},
   "outputs": [],
   "source": [
    "def findKNN(points,queries,num_neighbors):\n",
    "    idx,dist=[],[]\n",
    "\n",
    "    B=points.shape[0]\n",
    "\n",
    "    for i in range(B):\n",
    "        nn=pynanoflann.KDTree(n_neighbors=num_neighbors,metric=\"L2\")\n",
    "        pts=np.array(points[i])\n",
    "        qs=np.array(queries[i])\n",
    "        nn.fit(pts)\n",
    "        tempDIST,tempIDX=nn.kneighbors(qs)\n",
    "        idx.append(tempIDX.astype(np.int64))\n",
    "        dist.append(tempDIST.astype(np.float32))\n",
    "    \n",
    "    idx=torch.from_numpy(np.array(idx))\n",
    "    dist=torch.from_numpy(np.array(dist))\n",
    "    return idx,dist"
   ]
  },
  {
   "cell_type": "code",
   "execution_count": null,
   "metadata": {},
   "outputs": [],
   "source": [
    "nn=pynanoflann.KDTree(n_neighbors=16,metric=\"L2\",radius=10)\n",
    "nn.fit(x[0])\n",
    "idx,dist=nn.kneighbors(x[0])"
   ]
  },
  {
   "cell_type": "code",
   "execution_count": 5,
   "metadata": {},
   "outputs": [],
   "source": [
    "idx,dist=findKNN(x,x,16)"
   ]
  },
  {
   "cell_type": "code",
   "execution_count": 38,
   "metadata": {},
   "outputs": [],
   "source": [
    "x=np.array([[195830.,   2695.,   6747.,    704.,    677.,    540.],\n",
    "       [  1365.,   4010.,    120.,      0.,      0.,    133.],\n",
    "       [  2419.,    189.,  21351.,      0.,      0.,      0.],\n",
    "       [   564.,      0.,      0.,    296.,      0.,      0.],\n",
    "       [   302.,      0.,      0.,      0.,    812.,      0.],\n",
    "       [   292.,     25.,      0.,      0.,      0.,    732.]])"
   ]
  },
  {
   "cell_type": "code",
   "execution_count": 39,
   "metadata": {},
   "outputs": [
    {
     "data": {
      "text/plain": [
       "239803.0"
      ]
     },
     "execution_count": 39,
     "metadata": {},
     "output_type": "execute_result"
    }
   ],
   "source": [
    "x.sum()"
   ]
  },
  {
   "cell_type": "code",
   "execution_count": 40,
   "metadata": {},
   "outputs": [],
   "source": [
    "ratio=x/(x.sum(axis=1)).reshape(-1,1)"
   ]
  },
  {
   "cell_type": "code",
   "execution_count": 41,
   "metadata": {},
   "outputs": [
    {
     "data": {
      "text/plain": [
       "array([[0.94515741, 0.0130072 , 0.03256384, 0.0033978 , 0.00326748,\n",
       "        0.00260627],\n",
       "       [0.24253731, 0.71250888, 0.02132196, 0.        , 0.        ,\n",
       "        0.02363184],\n",
       "       [0.10096415, 0.00788848, 0.89114738, 0.        , 0.        ,\n",
       "        0.        ],\n",
       "       [0.65581395, 0.        , 0.        , 0.34418605, 0.        ,\n",
       "        0.        ],\n",
       "       [0.27109515, 0.        , 0.        , 0.        , 0.72890485,\n",
       "        0.        ],\n",
       "       [0.27836034, 0.02383222, 0.        , 0.        , 0.        ,\n",
       "        0.69780744]])"
      ]
     },
     "execution_count": 41,
     "metadata": {},
     "output_type": "execute_result"
    }
   ],
   "source": [
    "ratio"
   ]
  },
  {
   "cell_type": "code",
   "execution_count": 9,
   "metadata": {},
   "outputs": [
    {
     "data": {
      "text/plain": [
       "array([[0.54195918, 1.09528162, 1.07231265, 1.10693208, 1.10709177,\n",
       "        1.10790279],\n",
       "       [0.87524494, 0.62015162, 1.0853969 , 1.11111111, 1.11111111,\n",
       "        1.08268247],\n",
       "       [0.99903678, 1.10145687, 0.55830135, 1.11111111, 1.11111111,\n",
       "        1.11111111],\n",
       "       [0.64275037, 1.11111111, 1.11111111, 0.80373832, 1.11111111,\n",
       "        1.11111111],\n",
       "       [0.85390158, 1.11111111, 1.11111111, 1.11111111, 0.6139094 ,\n",
       "        1.11111111],\n",
       "       [0.84863684, 1.08244763, 1.11111111, 1.11111111, 1.11111111,\n",
       "        0.62585765]])"
      ]
     },
     "execution_count": 9,
     "metadata": {},
     "output_type": "execute_result"
    }
   ],
   "source": [
    "1/(ratio+0.9)"
   ]
  },
  {
   "cell_type": "code",
   "execution_count": 42,
   "metadata": {},
   "outputs": [
    {
     "name": "stderr",
     "output_type": "stream",
     "text": [
      "/tmp/ipykernel_888635/4211303426.py:2: RuntimeWarning: divide by zero encountered in true_divide\n",
      "  weight= 0.3+0.3*(1/(ratio+0.02))+0.4*(1/ratio)\n"
     ]
    },
    {
     "data": {
      "text/plain": [
       "array([[  1.03404005,  40.14113489,  18.29090849, 130.84501473,\n",
       "        135.61184547, 167.0469534 ],\n",
       "       [  3.09192548,   1.27094786,  26.32006192,          inf,\n",
       "                 inf,  24.10202845],\n",
       "       [  6.7418761 ,  61.76400962,   1.07811473,          inf,\n",
       "                 inf,          inf],\n",
       "       [  1.35383823,          inf,          inf,   2.28591695,\n",
       "                 inf,          inf],\n",
       "       [  2.80608754,          inf,          inf,          inf,\n",
       "          1.24935341,          inf],\n",
       "       [  2.74248186,  23.92828012,          inf,          inf,\n",
       "                 inf,   1.29116343]])"
      ]
     },
     "execution_count": 42,
     "metadata": {},
     "output_type": "execute_result"
    }
   ],
   "source": [
    "w=calculate_weight(ratio)\n",
    "w"
   ]
  },
  {
   "cell_type": "code",
   "execution_count": 43,
   "metadata": {},
   "outputs": [],
   "source": [
    "w[w==np.inf]=1"
   ]
  },
  {
   "cell_type": "code",
   "execution_count": 44,
   "metadata": {},
   "outputs": [
    {
     "data": {
      "text/plain": [
       "array([[  1,  40,  18, 130, 135, 167],\n",
       "       [  3,   1,  26,   1,   1,  24],\n",
       "       [  6,  61,   1,   1,   1,   1],\n",
       "       [  1,   1,   1,   2,   1,   1],\n",
       "       [  2,   1,   1,   1,   1,   1],\n",
       "       [  2,  23,   1,   1,   1,   1]], dtype=int16)"
      ]
     },
     "execution_count": 44,
     "metadata": {},
     "output_type": "execute_result"
    }
   ],
   "source": [
    "w.astype(np.int16)"
   ]
  },
  {
   "cell_type": "code",
   "execution_count": 112,
   "metadata": {},
   "outputs": [
    {
     "data": {
      "text/plain": [
       "array([[11.60201509,  1.00318817,  1.01728109,  0.99646443,  0.99637413,\n",
       "         0.99591632],\n",
       "       [ 1.21394943,  2.66698529,  1.00911171,  0.99411765,  0.99411765,\n",
       "         1.01077505],\n",
       "       [ 1.07135013,  0.9995905 ,  6.30293456,  0.99411765,  0.99411765,\n",
       "         0.99411765],\n",
       "       [ 2.28591695,  0.99411765,  0.99411765,  1.35383823,  0.99411765,\n",
       "         0.99411765],\n",
       "       [ 1.24935341,  0.99411765,  0.99411765,  0.99411765,  2.80608754,\n",
       "         0.99411765],\n",
       "       [ 1.25880238,  1.01091971,  0.99411765,  0.99411765,  0.99411765,\n",
       "         2.55477949]])"
      ]
     },
     "execution_count": 112,
     "metadata": {},
     "output_type": "execute_result"
    }
   ],
   "source": [
    "calculate_weight(1-ratio)"
   ]
  },
  {
   "cell_type": "code",
   "execution_count": 99,
   "metadata": {},
   "outputs": [
    {
     "data": {
      "text/plain": [
       "array([[1.05805005e+00, 7.68542285e+01, 3.07052460e+01, 2.93899291e+02,\n",
       "        3.05603245e+02, 3.82992606e+02],\n",
       "       [4.12445095e+00, 1.40463725e+00, 4.65619835e+01, 5.63400000e+03,\n",
       "        5.63400000e+03, 4.20447761e+01],\n",
       "       [9.90289256e+00, 1.26131579e+02, 1.12237729e+00, 2.39650000e+04,\n",
       "        2.39650000e+04, 2.39650000e+04],\n",
       "       [1.53274336e+00, 8.66000000e+02, 8.66000000e+02, 2.91582492e+00,\n",
       "        8.66000000e+02, 8.66000000e+02],\n",
       "       [3.69636964e+00, 1.12000000e+03, 1.12000000e+03, 1.12000000e+03,\n",
       "        1.37761378e+00, 1.12000000e+03],\n",
       "       [3.60068259e+00, 4.05769231e+01, 1.05500000e+03, 1.05500000e+03,\n",
       "        1.05500000e+03, 1.43929059e+00]])"
      ]
     },
     "execution_count": 99,
     "metadata": {},
     "output_type": "execute_result"
    }
   ],
   "source": [
    "1/ratio"
   ]
  },
  {
   "cell_type": "code",
   "execution_count": 100,
   "metadata": {},
   "outputs": [
    {
     "data": {
      "text/plain": [
       "array([[0.945, 0.013, 0.033, 0.003, 0.003, 0.003],\n",
       "       [0.242, 0.712, 0.021, 0.   , 0.   , 0.024],\n",
       "       [0.101, 0.008, 0.891, 0.   , 0.   , 0.   ],\n",
       "       [0.652, 0.001, 0.001, 0.343, 0.001, 0.001],\n",
       "       [0.271, 0.001, 0.001, 0.001, 0.726, 0.001],\n",
       "       [0.278, 0.025, 0.001, 0.001, 0.001, 0.695]])"
      ]
     },
     "execution_count": 100,
     "metadata": {},
     "output_type": "execute_result"
    }
   ],
   "source": [
    "np.round(ratio,3)"
   ]
  },
  {
   "cell_type": "code",
   "execution_count": null,
   "metadata": {},
   "outputs": [],
   "source": []
  }
 ],
 "metadata": {
  "interpreter": {
   "hash": "df826fa14f1487aa043da0ffc535f8d52c275b2ccd6ec35d6bbf2aa5d5901bd9"
  },
  "kernelspec": {
   "display_name": "Python 3.9.7 ('dl_env')",
   "language": "python",
   "name": "python3"
  },
  "language_info": {
   "codemirror_mode": {
    "name": "ipython",
    "version": 3
   },
   "file_extension": ".py",
   "mimetype": "text/x-python",
   "name": "python",
   "nbconvert_exporter": "python",
   "pygments_lexer": "ipython3",
   "version": "3.9.7"
  },
  "orig_nbformat": 4
 },
 "nbformat": 4,
 "nbformat_minor": 2
}
